{
 "cells": [
  {
   "cell_type": "code",
   "execution_count": 37,
   "id": "43423219",
   "metadata": {},
   "outputs": [],
   "source": [
    "import pandas as pd\n",
    "from sklearn.model_selection import train_test_split\n",
    "from sklearn.ensemble import RandomForestRegressor\n",
    "from sklearn.preprocessing import LabelEncoder\n",
    "from sklearn.metrics import mean_squared_error, r2_score"
   ]
  },
  {
   "cell_type": "code",
   "execution_count": 38,
   "id": "befdbae3",
   "metadata": {},
   "outputs": [],
   "source": [
    "data = pd.read_csv(\"Aluminium_stress_data.csv\")"
   ]
  },
  {
   "cell_type": "code",
   "execution_count": 39,
   "id": "7a1fc532",
   "metadata": {},
   "outputs": [],
   "source": [
    "label_encoder = LabelEncoder()\n",
    "data['material_encoded'] = label_encoder.fit_transform(data['material'])"
   ]
  },
  {
   "cell_type": "code",
   "execution_count": 40,
   "id": "65100c50",
   "metadata": {},
   "outputs": [],
   "source": [
    "X = data[['material_encoded', 'Exy', 'PRxy', 'thickness', 'FOS', 'Permissible stress']]\n",
    "y = data['max stress']\n"
   ]
  },
  {
   "cell_type": "code",
   "execution_count": 41,
   "id": "80360ad0",
   "metadata": {},
   "outputs": [],
   "source": [
    "X_train, X_test, y_train, y_test = train_test_split(X, y, test_size=0.3, random_state=42)"
   ]
  },
  {
   "cell_type": "code",
   "execution_count": 42,
   "id": "4464ca56",
   "metadata": {},
   "outputs": [
    {
     "data": {
      "text/plain": [
       "RandomForestRegressor(random_state=42)"
      ]
     },
     "execution_count": 42,
     "metadata": {},
     "output_type": "execute_result"
    }
   ],
   "source": [
    "model = RandomForestRegressor(n_estimators=100, random_state=42)\n",
    "model.fit(X_train, y_train)"
   ]
  },
  {
   "cell_type": "code",
   "execution_count": 43,
   "id": "3dbd61cd",
   "metadata": {},
   "outputs": [],
   "source": [
    "y_pred = model.predict(X_test)\n",
    "mse = mean_squared_error(y_test, y_pred)\n",
    "r2 = r2_score(y_test, y_pred)"
   ]
  },
  {
   "cell_type": "code",
   "execution_count": 44,
   "id": "fd3a4e94",
   "metadata": {},
   "outputs": [
    {
     "name": "stdout",
     "output_type": "stream",
     "text": [
      "Model Evaluation:\n",
      "Mean Squared Error (MSE): 543320366666666.69\n",
      "R² Score: 0.89\n"
     ]
    }
   ],
   "source": [
    "print(\"Model Evaluation:\")\n",
    "print(f\"Mean Squared Error (MSE): {mse:.2f}\")\n",
    "print(f\"R² Score: {r2:.2f}\")\n"
   ]
  },
  {
   "cell_type": "code",
   "execution_count": 45,
   "id": "fb62a254",
   "metadata": {},
   "outputs": [],
   "source": [
    "new_sample = pd.DataFrame({\n",
    "    'material_encoded': [label_encoder.transform(['Al 6061-T6'])[0]],  # Example material\n",
    "    'Exy': [6.9E+09],\n",
    "    'PRxy': [0.33],\n",
    "    'thickness': [0.0212],\n",
    "    'FOS': [1.5],\n",
    "    'Permissible stress': [183.4]\n",
    "})"
   ]
  },
  {
   "cell_type": "code",
   "execution_count": 46,
   "id": "fae0884e",
   "metadata": {},
   "outputs": [
    {
     "name": "stdout",
     "output_type": "stream",
     "text": [
      "\n",
      "Predicted Max Stress: 179310000.00 MPa\n"
     ]
    }
   ],
   "source": [
    "predicted_max_stress = model.predict(new_sample)\n",
    "print(f\"\\nPredicted Max Stress: {predicted_max_stress[0]:.2f} MPa\")"
   ]
  },
  {
   "cell_type": "code",
   "execution_count": null,
   "id": "833d8d4a",
   "metadata": {},
   "outputs": [],
   "source": []
  }
 ],
 "metadata": {
  "kernelspec": {
   "display_name": "Python 3 (ipykernel)",
   "language": "python",
   "name": "python3"
  },
  "language_info": {
   "codemirror_mode": {
    "name": "ipython",
    "version": 3
   },
   "file_extension": ".py",
   "mimetype": "text/x-python",
   "name": "python",
   "nbconvert_exporter": "python",
   "pygments_lexer": "ipython3",
   "version": "3.9.12"
  }
 },
 "nbformat": 4,
 "nbformat_minor": 5
}
